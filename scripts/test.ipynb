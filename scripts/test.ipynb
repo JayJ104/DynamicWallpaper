{
 "cells": [
  {
   "cell_type": "code",
   "execution_count": 12,
   "metadata": {},
   "outputs": [
    {
     "name": "stdout",
     "output_type": "stream",
     "text": [
      "        id                   track                    artist  \\\n",
      "0        1                 Sunrise               Norah Jones   \n",
      "1        2             Black Night               Deep Purple   \n",
      "2        3          Clint Eastwood                  Gorillaz   \n",
      "3        4           The Pretender              Foo Fighters   \n",
      "4        5  Waitin' On A Sunny Day         Bruce Springsteen   \n",
      "...    ...                     ...                       ...   \n",
      "1989  1990        Heartbreak Hotel             Elvis Presley   \n",
      "1990  1991               Hound Dog             Elvis Presley   \n",
      "1991  1992         Johnny B. Goode               Chuck Berry   \n",
      "1992  1993               Take Five  The Dave Brubeck Quartet   \n",
      "1993  1994          Blueberry Hill               Fats Domino   \n",
      "\n",
      "                    genre  year  bpm  energy  danceability  loudness  \\\n",
      "0         adult standards  2004  157      30            53       -14   \n",
      "1              album rock  2000  135      79            50       -11   \n",
      "2     alternative hip hop  2001  168      69            66        -9   \n",
      "3       alternative metal  2007  173      96            43        -4   \n",
      "4            classic rock  2002  106      82            58        -5   \n",
      "...                   ...   ...  ...     ...           ...       ...   \n",
      "1989      adult standards  1958   94      21            70       -12   \n",
      "1990      adult standards  1958  175      76            36        -8   \n",
      "1991           blues rock  1959  168      80            53        -9   \n",
      "1992                bebop  1959  174      26            45       -13   \n",
      "1993      adult standards  1959  133      50            49       -10   \n",
      "\n",
      "      liveness  valence track_length  acousticness  speechiness  popularity  \n",
      "0           11       68          201            94            3          71  \n",
      "1           17       81          207            17            7          39  \n",
      "2            7       52          341             2           17          69  \n",
      "3            3       37          269             0            4          76  \n",
      "4           10       87          256             1            3          59  \n",
      "...        ...      ...          ...           ...          ...         ...  \n",
      "1989        11       72          128            84            7          63  \n",
      "1990        76       95          136            73            6          69  \n",
      "1991        31       97          162            74            7          74  \n",
      "1992         7       60          324            54            4          65  \n",
      "1993        16       83          148            74            3          56  \n",
      "\n",
      "[1994 rows x 15 columns]\n"
     ]
    }
   ],
   "source": [
    "# testing data import\n",
    "import pandas as pd\n",
    "\n",
    "data2 = pd.read_csv(\"../data/Spotify-2000.csv\")\n",
    "# print(data2)\n",
    "df = pd.DataFrame(data2)\n",
    "df.columns = ['id', 'track', 'artist', 'genre', 'year', 'bpm', 'energy', 'danceability', 'loudness', 'liveness', 'valence', 'track_length', 'acousticness', 'speechiness', 'popularity']\n",
    "print(df)"
   ]
  },
  {
   "cell_type": "code",
   "execution_count": 16,
   "metadata": {},
   "outputs": [],
   "source": [
    "from pandasql import sqldf\n",
    "from IPython.display import display, HTML\n",
    "# import seaborn as sns\n",
    "\n",
    "# data = sns.load_dataset(\"../ data/Spotify-2000.csv\")\n",
    "queryDF = lambda query: sqldf(query, globals())\n",
    "query = \"SELECT * FROM df ORDER BY genre ASC, popularity DESC\"\n",
    "\n",
    "queriedDF = queryDF(query)\n",
    "# display(HTML(queriedDF.to_html()))\n",
    "html = queriedDF.to_html()\n",
    "text_file = open(\"./index.html\", \"w\")\n",
    "text_file.write(html)\n",
    "text_file.close()"
   ]
  },
  {
   "cell_type": "code",
   "execution_count": null,
   "metadata": {},
   "outputs": [],
   "source": []
  }
 ],
 "metadata": {
  "kernelspec": {
   "display_name": "Python 3 (ipykernel)",
   "language": "python",
   "name": "python3"
  },
  "language_info": {
   "codemirror_mode": {
    "name": "ipython",
    "version": 3
   },
   "file_extension": ".py",
   "mimetype": "text/x-python",
   "name": "python",
   "nbconvert_exporter": "python",
   "pygments_lexer": "ipython3",
   "version": "3.11.4"
  }
 },
 "nbformat": 4,
 "nbformat_minor": 2
}
